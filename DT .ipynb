{
 "cells": [
  {
   "cell_type": "code",
   "execution_count": 1,
   "id": "87d6a27d",
   "metadata": {},
   "outputs": [],
   "source": [
    "import pandas as pd\n",
    "import numpy as np\n",
    "import matplotlib.pyplot as plt\n",
    "import seaborn as sns\n",
    "import re\n",
    "import nltk\n",
    "from nltk.stem.snowball import SnowballStemmer\n",
    "from nltk.corpus import stopwords\n",
    "from nltk.tokenize import word_tokenize\n",
    "from nltk.stem import WordNetLemmatizer"
   ]
  },
  {
   "cell_type": "code",
   "execution_count": 2,
   "id": "05ce02a1",
   "metadata": {},
   "outputs": [],
   "source": [
    "from sklearn import metrics\n",
    "from sklearn.metrics import accuracy_score\n",
    "from sklearn.tree import DecisionTreeClassifier\n",
    "from sklearn.feature_extraction.text import TfidfVectorizer\n",
    "from sklearn.model_selection import train_test_split"
   ]
  },
  {
   "cell_type": "markdown",
   "id": "ba9c604a",
   "metadata": {},
   "source": [
    "# Data Collection"
   ]
  },
  {
   "cell_type": "code",
   "execution_count": 3,
   "id": "a7bdc366",
   "metadata": {},
   "outputs": [
    {
     "data": {
      "text/html": [
       "<div>\n",
       "<style scoped>\n",
       "    .dataframe tbody tr th:only-of-type {\n",
       "        vertical-align: middle;\n",
       "    }\n",
       "\n",
       "    .dataframe tbody tr th {\n",
       "        vertical-align: top;\n",
       "    }\n",
       "\n",
       "    .dataframe thead th {\n",
       "        text-align: right;\n",
       "    }\n",
       "</style>\n",
       "<table border=\"1\" class=\"dataframe\">\n",
       "  <thead>\n",
       "    <tr style=\"text-align: right;\">\n",
       "      <th></th>\n",
       "      <th>Unnamed: 0</th>\n",
       "      <th>title</th>\n",
       "      <th>text</th>\n",
       "      <th>label</th>\n",
       "    </tr>\n",
       "  </thead>\n",
       "  <tbody>\n",
       "    <tr>\n",
       "      <th>0</th>\n",
       "      <td>0</td>\n",
       "      <td>LAW ENFORCEMENT ON HIGH ALERT Following Threat...</td>\n",
       "      <td>No comment is expected from Barack Obama Membe...</td>\n",
       "      <td>1</td>\n",
       "    </tr>\n",
       "    <tr>\n",
       "      <th>1</th>\n",
       "      <td>1</td>\n",
       "      <td>NaN</td>\n",
       "      <td>Did they post their votes for Hillary already?</td>\n",
       "      <td>1</td>\n",
       "    </tr>\n",
       "    <tr>\n",
       "      <th>2</th>\n",
       "      <td>2</td>\n",
       "      <td>UNBELIEVABLE! OBAMA’S ATTORNEY GENERAL SAYS MO...</td>\n",
       "      <td>Now, most of the demonstrators gathered last ...</td>\n",
       "      <td>1</td>\n",
       "    </tr>\n",
       "    <tr>\n",
       "      <th>3</th>\n",
       "      <td>3</td>\n",
       "      <td>Bobby Jindal, raised Hindu, uses story of Chri...</td>\n",
       "      <td>A dozen politically active pastors came here f...</td>\n",
       "      <td>0</td>\n",
       "    </tr>\n",
       "    <tr>\n",
       "      <th>4</th>\n",
       "      <td>4</td>\n",
       "      <td>SATAN 2: Russia unvelis an image of its terrif...</td>\n",
       "      <td>The RS-28 Sarmat missile, dubbed Satan 2, will...</td>\n",
       "      <td>1</td>\n",
       "    </tr>\n",
       "  </tbody>\n",
       "</table>\n",
       "</div>"
      ],
      "text/plain": [
       "   Unnamed: 0                                              title  \\\n",
       "0           0  LAW ENFORCEMENT ON HIGH ALERT Following Threat...   \n",
       "1           1                                                NaN   \n",
       "2           2  UNBELIEVABLE! OBAMA’S ATTORNEY GENERAL SAYS MO...   \n",
       "3           3  Bobby Jindal, raised Hindu, uses story of Chri...   \n",
       "4           4  SATAN 2: Russia unvelis an image of its terrif...   \n",
       "\n",
       "                                                text  label  \n",
       "0  No comment is expected from Barack Obama Membe...      1  \n",
       "1     Did they post their votes for Hillary already?      1  \n",
       "2   Now, most of the demonstrators gathered last ...      1  \n",
       "3  A dozen politically active pastors came here f...      0  \n",
       "4  The RS-28 Sarmat missile, dubbed Satan 2, will...      1  "
      ]
     },
     "execution_count": 3,
     "metadata": {},
     "output_type": "execute_result"
    }
   ],
   "source": [
    "news_df = pd.read_csv('WELFake_Dataset.csv')\n",
    "news_df.head()"
   ]
  },
  {
   "cell_type": "code",
   "execution_count": 4,
   "id": "194165dc",
   "metadata": {},
   "outputs": [
    {
     "data": {
      "text/plain": [
       "(72134, 4)"
      ]
     },
     "execution_count": 4,
     "metadata": {},
     "output_type": "execute_result"
    }
   ],
   "source": [
    "news_df.shape"
   ]
  },
  {
   "cell_type": "code",
   "execution_count": 5,
   "id": "8f7ca8bf",
   "metadata": {},
   "outputs": [
    {
     "name": "stdout",
     "output_type": "stream",
     "text": [
      "Number of Fake News: 35028\n",
      "Number of Real News: 37106\n"
     ]
    }
   ],
   "source": [
    "fake_news_count = news_df[news_df['label'] == 0].shape[0]\n",
    "real_news_count = news_df[news_df['label'] == 1].shape[0]\n",
    "\n",
    "print(\"Number of Fake News:\", fake_news_count)\n",
    "print(\"Number of Real News:\", real_news_count)\n",
    "\n"
   ]
  },
  {
   "cell_type": "code",
   "execution_count": null,
   "id": "b784381b",
   "metadata": {},
   "outputs": [],
   "source": []
  },
  {
   "cell_type": "code",
   "execution_count": 6,
   "id": "6bf2069d",
   "metadata": {},
   "outputs": [
    {
     "name": "stdout",
     "output_type": "stream",
     "text": [
      "<class 'pandas.core.frame.DataFrame'>\n",
      "RangeIndex: 72134 entries, 0 to 72133\n",
      "Data columns (total 4 columns):\n",
      " #   Column      Non-Null Count  Dtype \n",
      "---  ------      --------------  ----- \n",
      " 0   Unnamed: 0  72134 non-null  int64 \n",
      " 1   title       71576 non-null  object\n",
      " 2   text        72095 non-null  object\n",
      " 3   label       72134 non-null  int64 \n",
      "dtypes: int64(2), object(2)\n",
      "memory usage: 2.2+ MB\n"
     ]
    }
   ],
   "source": [
    "news_df.info()  "
   ]
  },
  {
   "cell_type": "markdown",
   "id": "90437812",
   "metadata": {},
   "source": [
    "# Data Cleaning"
   ]
  },
  {
   "cell_type": "code",
   "execution_count": 7,
   "id": "dbbc030f",
   "metadata": {},
   "outputs": [
    {
     "data": {
      "text/plain": [
       "Unnamed: 0      0\n",
       "title         558\n",
       "text           39\n",
       "label           0\n",
       "dtype: int64"
      ]
     },
     "execution_count": 7,
     "metadata": {},
     "output_type": "execute_result"
    }
   ],
   "source": [
    "news_df.isnull().sum()"
   ]
  },
  {
   "cell_type": "code",
   "execution_count": 8,
   "id": "36c3d0de",
   "metadata": {},
   "outputs": [],
   "source": [
    "news_df=news_df.dropna()   # dropping missing values"
   ]
  },
  {
   "cell_type": "code",
   "execution_count": 9,
   "id": "f2416cef",
   "metadata": {},
   "outputs": [
    {
     "data": {
      "text/plain": [
       "Unnamed: 0    0\n",
       "title         0\n",
       "text          0\n",
       "label         0\n",
       "dtype: int64"
      ]
     },
     "execution_count": 9,
     "metadata": {},
     "output_type": "execute_result"
    }
   ],
   "source": [
    "news_df.isnull().sum()"
   ]
  },
  {
   "cell_type": "code",
   "execution_count": 10,
   "id": "f641e875",
   "metadata": {},
   "outputs": [
    {
     "name": "stdout",
     "output_type": "stream",
     "text": [
      "<class 'pandas.core.frame.DataFrame'>\n",
      "Int64Index: 71537 entries, 0 to 72133\n",
      "Data columns (total 4 columns):\n",
      " #   Column      Non-Null Count  Dtype \n",
      "---  ------      --------------  ----- \n",
      " 0   Unnamed: 0  71537 non-null  int64 \n",
      " 1   title       71537 non-null  object\n",
      " 2   text        71537 non-null  object\n",
      " 3   label       71537 non-null  int64 \n",
      "dtypes: int64(2), object(2)\n",
      "memory usage: 2.7+ MB\n"
     ]
    }
   ],
   "source": [
    "news_df.info()  "
   ]
  },
  {
   "cell_type": "code",
   "execution_count": 11,
   "id": "01032172",
   "metadata": {},
   "outputs": [],
   "source": [
    "# merege all content together content = title + text\n",
    "news_df['content'] = news_df['title']+' '+news_df['text']"
   ]
  },
  {
   "cell_type": "code",
   "execution_count": 12,
   "id": "cbcdbbbe",
   "metadata": {},
   "outputs": [
    {
     "data": {
      "text/html": [
       "<div>\n",
       "<style scoped>\n",
       "    .dataframe tbody tr th:only-of-type {\n",
       "        vertical-align: middle;\n",
       "    }\n",
       "\n",
       "    .dataframe tbody tr th {\n",
       "        vertical-align: top;\n",
       "    }\n",
       "\n",
       "    .dataframe thead th {\n",
       "        text-align: right;\n",
       "    }\n",
       "</style>\n",
       "<table border=\"1\" class=\"dataframe\">\n",
       "  <thead>\n",
       "    <tr style=\"text-align: right;\">\n",
       "      <th></th>\n",
       "      <th>Unnamed: 0</th>\n",
       "      <th>title</th>\n",
       "      <th>text</th>\n",
       "      <th>label</th>\n",
       "      <th>content</th>\n",
       "    </tr>\n",
       "  </thead>\n",
       "  <tbody>\n",
       "    <tr>\n",
       "      <th>0</th>\n",
       "      <td>0</td>\n",
       "      <td>LAW ENFORCEMENT ON HIGH ALERT Following Threat...</td>\n",
       "      <td>No comment is expected from Barack Obama Membe...</td>\n",
       "      <td>1</td>\n",
       "      <td>LAW ENFORCEMENT ON HIGH ALERT Following Threat...</td>\n",
       "    </tr>\n",
       "    <tr>\n",
       "      <th>2</th>\n",
       "      <td>2</td>\n",
       "      <td>UNBELIEVABLE! OBAMA’S ATTORNEY GENERAL SAYS MO...</td>\n",
       "      <td>Now, most of the demonstrators gathered last ...</td>\n",
       "      <td>1</td>\n",
       "      <td>UNBELIEVABLE! OBAMA’S ATTORNEY GENERAL SAYS MO...</td>\n",
       "    </tr>\n",
       "    <tr>\n",
       "      <th>3</th>\n",
       "      <td>3</td>\n",
       "      <td>Bobby Jindal, raised Hindu, uses story of Chri...</td>\n",
       "      <td>A dozen politically active pastors came here f...</td>\n",
       "      <td>0</td>\n",
       "      <td>Bobby Jindal, raised Hindu, uses story of Chri...</td>\n",
       "    </tr>\n",
       "    <tr>\n",
       "      <th>4</th>\n",
       "      <td>4</td>\n",
       "      <td>SATAN 2: Russia unvelis an image of its terrif...</td>\n",
       "      <td>The RS-28 Sarmat missile, dubbed Satan 2, will...</td>\n",
       "      <td>1</td>\n",
       "      <td>SATAN 2: Russia unvelis an image of its terrif...</td>\n",
       "    </tr>\n",
       "    <tr>\n",
       "      <th>5</th>\n",
       "      <td>5</td>\n",
       "      <td>About Time! Christian Group Sues Amazon and SP...</td>\n",
       "      <td>All we can say on this one is it s about time ...</td>\n",
       "      <td>1</td>\n",
       "      <td>About Time! Christian Group Sues Amazon and SP...</td>\n",
       "    </tr>\n",
       "    <tr>\n",
       "      <th>...</th>\n",
       "      <td>...</td>\n",
       "      <td>...</td>\n",
       "      <td>...</td>\n",
       "      <td>...</td>\n",
       "      <td>...</td>\n",
       "    </tr>\n",
       "    <tr>\n",
       "      <th>72129</th>\n",
       "      <td>72129</td>\n",
       "      <td>Russians steal research on Trump in hack of U....</td>\n",
       "      <td>WASHINGTON (Reuters) - Hackers believed to be ...</td>\n",
       "      <td>0</td>\n",
       "      <td>Russians steal research on Trump in hack of U....</td>\n",
       "    </tr>\n",
       "    <tr>\n",
       "      <th>72130</th>\n",
       "      <td>72130</td>\n",
       "      <td>WATCH: Giuliani Demands That Democrats Apolog...</td>\n",
       "      <td>You know, because in fantasyland Republicans n...</td>\n",
       "      <td>1</td>\n",
       "      <td>WATCH: Giuliani Demands That Democrats Apolog...</td>\n",
       "    </tr>\n",
       "    <tr>\n",
       "      <th>72131</th>\n",
       "      <td>72131</td>\n",
       "      <td>Migrants Refuse To Leave Train At Refugee Camp...</td>\n",
       "      <td>Migrants Refuse To Leave Train At Refugee Camp...</td>\n",
       "      <td>0</td>\n",
       "      <td>Migrants Refuse To Leave Train At Refugee Camp...</td>\n",
       "    </tr>\n",
       "    <tr>\n",
       "      <th>72132</th>\n",
       "      <td>72132</td>\n",
       "      <td>Trump tussle gives unpopular Mexican leader mu...</td>\n",
       "      <td>MEXICO CITY (Reuters) - Donald Trump’s combati...</td>\n",
       "      <td>0</td>\n",
       "      <td>Trump tussle gives unpopular Mexican leader mu...</td>\n",
       "    </tr>\n",
       "    <tr>\n",
       "      <th>72133</th>\n",
       "      <td>72133</td>\n",
       "      <td>Goldman Sachs Endorses Hillary Clinton For Pre...</td>\n",
       "      <td>Goldman Sachs Endorses Hillary Clinton For Pre...</td>\n",
       "      <td>1</td>\n",
       "      <td>Goldman Sachs Endorses Hillary Clinton For Pre...</td>\n",
       "    </tr>\n",
       "  </tbody>\n",
       "</table>\n",
       "<p>71537 rows × 5 columns</p>\n",
       "</div>"
      ],
      "text/plain": [
       "       Unnamed: 0                                              title  \\\n",
       "0               0  LAW ENFORCEMENT ON HIGH ALERT Following Threat...   \n",
       "2               2  UNBELIEVABLE! OBAMA’S ATTORNEY GENERAL SAYS MO...   \n",
       "3               3  Bobby Jindal, raised Hindu, uses story of Chri...   \n",
       "4               4  SATAN 2: Russia unvelis an image of its terrif...   \n",
       "5               5  About Time! Christian Group Sues Amazon and SP...   \n",
       "...           ...                                                ...   \n",
       "72129       72129  Russians steal research on Trump in hack of U....   \n",
       "72130       72130   WATCH: Giuliani Demands That Democrats Apolog...   \n",
       "72131       72131  Migrants Refuse To Leave Train At Refugee Camp...   \n",
       "72132       72132  Trump tussle gives unpopular Mexican leader mu...   \n",
       "72133       72133  Goldman Sachs Endorses Hillary Clinton For Pre...   \n",
       "\n",
       "                                                    text  label  \\\n",
       "0      No comment is expected from Barack Obama Membe...      1   \n",
       "2       Now, most of the demonstrators gathered last ...      1   \n",
       "3      A dozen politically active pastors came here f...      0   \n",
       "4      The RS-28 Sarmat missile, dubbed Satan 2, will...      1   \n",
       "5      All we can say on this one is it s about time ...      1   \n",
       "...                                                  ...    ...   \n",
       "72129  WASHINGTON (Reuters) - Hackers believed to be ...      0   \n",
       "72130  You know, because in fantasyland Republicans n...      1   \n",
       "72131  Migrants Refuse To Leave Train At Refugee Camp...      0   \n",
       "72132  MEXICO CITY (Reuters) - Donald Trump’s combati...      0   \n",
       "72133  Goldman Sachs Endorses Hillary Clinton For Pre...      1   \n",
       "\n",
       "                                                 content  \n",
       "0      LAW ENFORCEMENT ON HIGH ALERT Following Threat...  \n",
       "2      UNBELIEVABLE! OBAMA’S ATTORNEY GENERAL SAYS MO...  \n",
       "3      Bobby Jindal, raised Hindu, uses story of Chri...  \n",
       "4      SATAN 2: Russia unvelis an image of its terrif...  \n",
       "5      About Time! Christian Group Sues Amazon and SP...  \n",
       "...                                                  ...  \n",
       "72129  Russians steal research on Trump in hack of U....  \n",
       "72130   WATCH: Giuliani Demands That Democrats Apolog...  \n",
       "72131  Migrants Refuse To Leave Train At Refugee Camp...  \n",
       "72132  Trump tussle gives unpopular Mexican leader mu...  \n",
       "72133  Goldman Sachs Endorses Hillary Clinton For Pre...  \n",
       "\n",
       "[71537 rows x 5 columns]"
      ]
     },
     "execution_count": 12,
     "metadata": {},
     "output_type": "execute_result"
    }
   ],
   "source": [
    "news_df"
   ]
  },
  {
   "cell_type": "code",
   "execution_count": 13,
   "id": "2dfbfe17",
   "metadata": {},
   "outputs": [],
   "source": [
    "# Shuffling\n",
    "news_df = news_df.sample(frac=1)\n",
    "news_df.reset_index(inplace=True)\n",
    "news_df.drop([\"index\"], axis=1, inplace=True)"
   ]
  },
  {
   "cell_type": "code",
   "execution_count": 14,
   "id": "5ec1dbcf",
   "metadata": {},
   "outputs": [],
   "source": [
    "news_df.drop_duplicates(subset=['content'], inplace=True)"
   ]
  },
  {
   "cell_type": "code",
   "execution_count": 15,
   "id": "ee2d538e",
   "metadata": {},
   "outputs": [],
   "source": [
    "news_df.reset_index(inplace=True)\n",
    "news_df.drop([\"index\"], axis=1, inplace=True)"
   ]
  },
  {
   "cell_type": "code",
   "execution_count": 16,
   "id": "5d25869c",
   "metadata": {},
   "outputs": [
    {
     "data": {
      "text/html": [
       "<div>\n",
       "<style scoped>\n",
       "    .dataframe tbody tr th:only-of-type {\n",
       "        vertical-align: middle;\n",
       "    }\n",
       "\n",
       "    .dataframe tbody tr th {\n",
       "        vertical-align: top;\n",
       "    }\n",
       "\n",
       "    .dataframe thead th {\n",
       "        text-align: right;\n",
       "    }\n",
       "</style>\n",
       "<table border=\"1\" class=\"dataframe\">\n",
       "  <thead>\n",
       "    <tr style=\"text-align: right;\">\n",
       "      <th></th>\n",
       "      <th>Unnamed: 0</th>\n",
       "      <th>title</th>\n",
       "      <th>text</th>\n",
       "      <th>label</th>\n",
       "      <th>content</th>\n",
       "    </tr>\n",
       "  </thead>\n",
       "  <tbody>\n",
       "    <tr>\n",
       "      <th>0</th>\n",
       "      <td>46760</td>\n",
       "      <td>South Korea to resume building two new nuclear...</td>\n",
       "      <td>SEOUL (Reuters) - South Korea will resume the ...</td>\n",
       "      <td>0</td>\n",
       "      <td>South Korea to resume building two new nuclear...</td>\n",
       "    </tr>\n",
       "    <tr>\n",
       "      <th>1</th>\n",
       "      <td>29546</td>\n",
       "      <td>Netanyahu signals Israel will act with free ha...</td>\n",
       "      <td>JERUSALEM (Reuters) - Prime Minister Benjamin ...</td>\n",
       "      <td>0</td>\n",
       "      <td>Netanyahu signals Israel will act with free ha...</td>\n",
       "    </tr>\n",
       "    <tr>\n",
       "      <th>2</th>\n",
       "      <td>28977</td>\n",
       "      <td>China's Xi fetes Trump on first day of Beijing...</td>\n",
       "      <td>BEIJING (Reuters) - With lavish pageantry and ...</td>\n",
       "      <td>0</td>\n",
       "      <td>China's Xi fetes Trump on first day of Beijing...</td>\n",
       "    </tr>\n",
       "    <tr>\n",
       "      <th>3</th>\n",
       "      <td>71088</td>\n",
       "      <td>Sometimes the road to diet change can be fun</td>\n",
       "      <td>Sometimes the road to diet change can be fun A...</td>\n",
       "      <td>1</td>\n",
       "      <td>Sometimes the road to diet change can be fun S...</td>\n",
       "    </tr>\n",
       "    <tr>\n",
       "      <th>4</th>\n",
       "      <td>25662</td>\n",
       "      <td>Trump, Taiwan and China: The Controversy, Expl...</td>\n",
       "      <td>When   Donald J. Trump spoke on the phone with...</td>\n",
       "      <td>0</td>\n",
       "      <td>Trump, Taiwan and China: The Controversy, Expl...</td>\n",
       "    </tr>\n",
       "    <tr>\n",
       "      <th>...</th>\n",
       "      <td>...</td>\n",
       "      <td>...</td>\n",
       "      <td>...</td>\n",
       "      <td>...</td>\n",
       "      <td>...</td>\n",
       "    </tr>\n",
       "    <tr>\n",
       "      <th>63116</th>\n",
       "      <td>13086</td>\n",
       "      <td>Today in History: Harry Truman Defies State De...</td>\n",
       "      <td>On May 14, 1948, U. S. President Harry Truman ...</td>\n",
       "      <td>0</td>\n",
       "      <td>Today in History: Harry Truman Defies State De...</td>\n",
       "    </tr>\n",
       "    <tr>\n",
       "      <th>63117</th>\n",
       "      <td>18460</td>\n",
       "      <td>Mired in third, Marco Rubio prepares for a lon...</td>\n",
       "      <td>At a Capitol Hill social club earlier this mon...</td>\n",
       "      <td>0</td>\n",
       "      <td>Mired in third, Marco Rubio prepares for a lon...</td>\n",
       "    </tr>\n",
       "    <tr>\n",
       "      <th>63118</th>\n",
       "      <td>18261</td>\n",
       "      <td>North Korea says Trump begged for a war during...</td>\n",
       "      <td>SEOUL (Reuters) - North Korea said on Saturday...</td>\n",
       "      <td>0</td>\n",
       "      <td>North Korea says Trump begged for a war during...</td>\n",
       "    </tr>\n",
       "    <tr>\n",
       "      <th>63119</th>\n",
       "      <td>35694</td>\n",
       "      <td>Showgirls, Pastrami and Candor: Gloria Steinem...</td>\n",
       "      <td>Gloria Steinem started her career as a C. I. A...</td>\n",
       "      <td>0</td>\n",
       "      <td>Showgirls, Pastrami and Candor: Gloria Steinem...</td>\n",
       "    </tr>\n",
       "    <tr>\n",
       "      <th>63120</th>\n",
       "      <td>43715</td>\n",
       "      <td>WOW! WHAT JOHN KERRY JUST SAID PROVES HIS INAB...</td>\n",
       "      <td>Unreal! Is he that out of it? It would appear ...</td>\n",
       "      <td>1</td>\n",
       "      <td>WOW! WHAT JOHN KERRY JUST SAID PROVES HIS INAB...</td>\n",
       "    </tr>\n",
       "  </tbody>\n",
       "</table>\n",
       "<p>63121 rows × 5 columns</p>\n",
       "</div>"
      ],
      "text/plain": [
       "       Unnamed: 0                                              title  \\\n",
       "0           46760  South Korea to resume building two new nuclear...   \n",
       "1           29546  Netanyahu signals Israel will act with free ha...   \n",
       "2           28977  China's Xi fetes Trump on first day of Beijing...   \n",
       "3           71088       Sometimes the road to diet change can be fun   \n",
       "4           25662  Trump, Taiwan and China: The Controversy, Expl...   \n",
       "...           ...                                                ...   \n",
       "63116       13086  Today in History: Harry Truman Defies State De...   \n",
       "63117       18460  Mired in third, Marco Rubio prepares for a lon...   \n",
       "63118       18261  North Korea says Trump begged for a war during...   \n",
       "63119       35694  Showgirls, Pastrami and Candor: Gloria Steinem...   \n",
       "63120       43715  WOW! WHAT JOHN KERRY JUST SAID PROVES HIS INAB...   \n",
       "\n",
       "                                                    text  label  \\\n",
       "0      SEOUL (Reuters) - South Korea will resume the ...      0   \n",
       "1      JERUSALEM (Reuters) - Prime Minister Benjamin ...      0   \n",
       "2      BEIJING (Reuters) - With lavish pageantry and ...      0   \n",
       "3      Sometimes the road to diet change can be fun A...      1   \n",
       "4      When   Donald J. Trump spoke on the phone with...      0   \n",
       "...                                                  ...    ...   \n",
       "63116  On May 14, 1948, U. S. President Harry Truman ...      0   \n",
       "63117  At a Capitol Hill social club earlier this mon...      0   \n",
       "63118  SEOUL (Reuters) - North Korea said on Saturday...      0   \n",
       "63119  Gloria Steinem started her career as a C. I. A...      0   \n",
       "63120  Unreal! Is he that out of it? It would appear ...      1   \n",
       "\n",
       "                                                 content  \n",
       "0      South Korea to resume building two new nuclear...  \n",
       "1      Netanyahu signals Israel will act with free ha...  \n",
       "2      China's Xi fetes Trump on first day of Beijing...  \n",
       "3      Sometimes the road to diet change can be fun S...  \n",
       "4      Trump, Taiwan and China: The Controversy, Expl...  \n",
       "...                                                  ...  \n",
       "63116  Today in History: Harry Truman Defies State De...  \n",
       "63117  Mired in third, Marco Rubio prepares for a lon...  \n",
       "63118  North Korea says Trump begged for a war during...  \n",
       "63119  Showgirls, Pastrami and Candor: Gloria Steinem...  \n",
       "63120  WOW! WHAT JOHN KERRY JUST SAID PROVES HIS INAB...  \n",
       "\n",
       "[63121 rows x 5 columns]"
      ]
     },
     "execution_count": 16,
     "metadata": {},
     "output_type": "execute_result"
    }
   ],
   "source": [
    "news_df"
   ]
  },
  {
   "cell_type": "code",
   "execution_count": 17,
   "id": "be5d4ef7",
   "metadata": {},
   "outputs": [],
   "source": [
    "# Convert all text to lowercase\n",
    "news_df['content'] = news_df['content'].apply(lambda x: x.lower())"
   ]
  },
  {
   "cell_type": "code",
   "execution_count": 18,
   "id": "114d0450",
   "metadata": {},
   "outputs": [],
   "source": [
    "# Remove URLs\n",
    "news_df['content'] = news_df['content'].apply(lambda x: re.sub(r'http\\S+', '', x))"
   ]
  },
  {
   "cell_type": "code",
   "execution_count": 19,
   "id": "666595a8",
   "metadata": {},
   "outputs": [],
   "source": [
    "# Remove punctuation\n",
    "news_df['content'] = news_df['content'].apply(lambda x: re.sub(r'[^\\w\\s]', '', x))"
   ]
  },
  {
   "cell_type": "code",
   "execution_count": 20,
   "id": "8ae97c6d",
   "metadata": {},
   "outputs": [],
   "source": [
    "# Remove stopwords\n",
    "stop_words = set(stopwords.words('english'))\n",
    "news_df['content'] = news_df['content'].apply(lambda x: ' '.join([word for word in word_tokenize(x) if word not in stop_words]))"
   ]
  },
  {
   "cell_type": "code",
   "execution_count": 21,
   "id": "2694c457",
   "metadata": {},
   "outputs": [],
   "source": [
    "# Lemmatize words\n",
    "lemmatizer = WordNetLemmatizer()\n",
    "news_df['content'] = news_df['content'].apply(lambda x: ' '.join([lemmatizer.lemmatize(word) for word in word_tokenize(x)]))"
   ]
  },
  {
   "cell_type": "code",
   "execution_count": null,
   "id": "8a31b72a",
   "metadata": {},
   "outputs": [],
   "source": []
  },
  {
   "cell_type": "code",
   "execution_count": 22,
   "id": "19ba5030",
   "metadata": {},
   "outputs": [
    {
     "data": {
      "text/html": [
       "<div>\n",
       "<style scoped>\n",
       "    .dataframe tbody tr th:only-of-type {\n",
       "        vertical-align: middle;\n",
       "    }\n",
       "\n",
       "    .dataframe tbody tr th {\n",
       "        vertical-align: top;\n",
       "    }\n",
       "\n",
       "    .dataframe thead th {\n",
       "        text-align: right;\n",
       "    }\n",
       "</style>\n",
       "<table border=\"1\" class=\"dataframe\">\n",
       "  <thead>\n",
       "    <tr style=\"text-align: right;\">\n",
       "      <th></th>\n",
       "      <th>Unnamed: 0</th>\n",
       "      <th>title</th>\n",
       "      <th>text</th>\n",
       "      <th>label</th>\n",
       "      <th>content</th>\n",
       "    </tr>\n",
       "  </thead>\n",
       "  <tbody>\n",
       "    <tr>\n",
       "      <th>0</th>\n",
       "      <td>46760</td>\n",
       "      <td>South Korea to resume building two new nuclear...</td>\n",
       "      <td>SEOUL (Reuters) - South Korea will resume the ...</td>\n",
       "      <td>0</td>\n",
       "      <td>south korea resume building two new nuclear re...</td>\n",
       "    </tr>\n",
       "    <tr>\n",
       "      <th>1</th>\n",
       "      <td>29546</td>\n",
       "      <td>Netanyahu signals Israel will act with free ha...</td>\n",
       "      <td>JERUSALEM (Reuters) - Prime Minister Benjamin ...</td>\n",
       "      <td>0</td>\n",
       "      <td>netanyahu signal israel act free hand syria je...</td>\n",
       "    </tr>\n",
       "    <tr>\n",
       "      <th>2</th>\n",
       "      <td>28977</td>\n",
       "      <td>China's Xi fetes Trump on first day of Beijing...</td>\n",
       "      <td>BEIJING (Reuters) - With lavish pageantry and ...</td>\n",
       "      <td>0</td>\n",
       "      <td>china xi fete trump first day beijing trip bei...</td>\n",
       "    </tr>\n",
       "    <tr>\n",
       "      <th>3</th>\n",
       "      <td>71088</td>\n",
       "      <td>Sometimes the road to diet change can be fun</td>\n",
       "      <td>Sometimes the road to diet change can be fun A...</td>\n",
       "      <td>1</td>\n",
       "      <td>sometimes road diet change fun sometimes road ...</td>\n",
       "    </tr>\n",
       "    <tr>\n",
       "      <th>4</th>\n",
       "      <td>25662</td>\n",
       "      <td>Trump, Taiwan and China: The Controversy, Expl...</td>\n",
       "      <td>When   Donald J. Trump spoke on the phone with...</td>\n",
       "      <td>0</td>\n",
       "      <td>trump taiwan china controversy explained new y...</td>\n",
       "    </tr>\n",
       "    <tr>\n",
       "      <th>...</th>\n",
       "      <td>...</td>\n",
       "      <td>...</td>\n",
       "      <td>...</td>\n",
       "      <td>...</td>\n",
       "      <td>...</td>\n",
       "    </tr>\n",
       "    <tr>\n",
       "      <th>63116</th>\n",
       "      <td>13086</td>\n",
       "      <td>Today in History: Harry Truman Defies State De...</td>\n",
       "      <td>On May 14, 1948, U. S. President Harry Truman ...</td>\n",
       "      <td>0</td>\n",
       "      <td>today history harry truman defies state depart...</td>\n",
       "    </tr>\n",
       "    <tr>\n",
       "      <th>63117</th>\n",
       "      <td>18460</td>\n",
       "      <td>Mired in third, Marco Rubio prepares for a lon...</td>\n",
       "      <td>At a Capitol Hill social club earlier this mon...</td>\n",
       "      <td>0</td>\n",
       "      <td>mired third marco rubio prepares long drawnout...</td>\n",
       "    </tr>\n",
       "    <tr>\n",
       "      <th>63118</th>\n",
       "      <td>18261</td>\n",
       "      <td>North Korea says Trump begged for a war during...</td>\n",
       "      <td>SEOUL (Reuters) - North Korea said on Saturday...</td>\n",
       "      <td>0</td>\n",
       "      <td>north korea say trump begged war asia trip seo...</td>\n",
       "    </tr>\n",
       "    <tr>\n",
       "      <th>63119</th>\n",
       "      <td>35694</td>\n",
       "      <td>Showgirls, Pastrami and Candor: Gloria Steinem...</td>\n",
       "      <td>Gloria Steinem started her career as a C. I. A...</td>\n",
       "      <td>0</td>\n",
       "      <td>showgirl pastrami candor gloria steinem new yo...</td>\n",
       "    </tr>\n",
       "    <tr>\n",
       "      <th>63120</th>\n",
       "      <td>43715</td>\n",
       "      <td>WOW! WHAT JOHN KERRY JUST SAID PROVES HIS INAB...</td>\n",
       "      <td>Unreal! Is he that out of it? It would appear ...</td>\n",
       "      <td>1</td>\n",
       "      <td>wow john kerry said prof inability secretary s...</td>\n",
       "    </tr>\n",
       "  </tbody>\n",
       "</table>\n",
       "<p>63121 rows × 5 columns</p>\n",
       "</div>"
      ],
      "text/plain": [
       "       Unnamed: 0                                              title  \\\n",
       "0           46760  South Korea to resume building two new nuclear...   \n",
       "1           29546  Netanyahu signals Israel will act with free ha...   \n",
       "2           28977  China's Xi fetes Trump on first day of Beijing...   \n",
       "3           71088       Sometimes the road to diet change can be fun   \n",
       "4           25662  Trump, Taiwan and China: The Controversy, Expl...   \n",
       "...           ...                                                ...   \n",
       "63116       13086  Today in History: Harry Truman Defies State De...   \n",
       "63117       18460  Mired in third, Marco Rubio prepares for a lon...   \n",
       "63118       18261  North Korea says Trump begged for a war during...   \n",
       "63119       35694  Showgirls, Pastrami and Candor: Gloria Steinem...   \n",
       "63120       43715  WOW! WHAT JOHN KERRY JUST SAID PROVES HIS INAB...   \n",
       "\n",
       "                                                    text  label  \\\n",
       "0      SEOUL (Reuters) - South Korea will resume the ...      0   \n",
       "1      JERUSALEM (Reuters) - Prime Minister Benjamin ...      0   \n",
       "2      BEIJING (Reuters) - With lavish pageantry and ...      0   \n",
       "3      Sometimes the road to diet change can be fun A...      1   \n",
       "4      When   Donald J. Trump spoke on the phone with...      0   \n",
       "...                                                  ...    ...   \n",
       "63116  On May 14, 1948, U. S. President Harry Truman ...      0   \n",
       "63117  At a Capitol Hill social club earlier this mon...      0   \n",
       "63118  SEOUL (Reuters) - North Korea said on Saturday...      0   \n",
       "63119  Gloria Steinem started her career as a C. I. A...      0   \n",
       "63120  Unreal! Is he that out of it? It would appear ...      1   \n",
       "\n",
       "                                                 content  \n",
       "0      south korea resume building two new nuclear re...  \n",
       "1      netanyahu signal israel act free hand syria je...  \n",
       "2      china xi fete trump first day beijing trip bei...  \n",
       "3      sometimes road diet change fun sometimes road ...  \n",
       "4      trump taiwan china controversy explained new y...  \n",
       "...                                                  ...  \n",
       "63116  today history harry truman defies state depart...  \n",
       "63117  mired third marco rubio prepares long drawnout...  \n",
       "63118  north korea say trump begged war asia trip seo...  \n",
       "63119  showgirl pastrami candor gloria steinem new yo...  \n",
       "63120  wow john kerry said prof inability secretary s...  \n",
       "\n",
       "[63121 rows x 5 columns]"
      ]
     },
     "execution_count": 22,
     "metadata": {},
     "output_type": "execute_result"
    }
   ],
   "source": [
    "news_df"
   ]
  },
  {
   "cell_type": "code",
   "execution_count": 23,
   "id": "cac56da2",
   "metadata": {},
   "outputs": [
    {
     "data": {
      "text/plain": [
       "0        south korea resume building two new nuclear re...\n",
       "1        netanyahu signal israel act free hand syria je...\n",
       "2        china xi fete trump first day beijing trip bei...\n",
       "3        sometimes road diet change fun sometimes road ...\n",
       "4        trump taiwan china controversy explained new y...\n",
       "                               ...                        \n",
       "63116    today history harry truman defies state depart...\n",
       "63117    mired third marco rubio prepares long drawnout...\n",
       "63118    north korea say trump begged war asia trip seo...\n",
       "63119    showgirl pastrami candor gloria steinem new yo...\n",
       "63120    wow john kerry said prof inability secretary s...\n",
       "Name: content, Length: 63121, dtype: object"
      ]
     },
     "execution_count": 23,
     "metadata": {},
     "output_type": "execute_result"
    }
   ],
   "source": [
    "news_df['content']"
   ]
  },
  {
   "cell_type": "markdown",
   "id": "c58c466c",
   "metadata": {},
   "source": [
    "# EDA"
   ]
  },
  {
   "cell_type": "code",
   "execution_count": 24,
   "id": "0c2486cd",
   "metadata": {},
   "outputs": [
    {
     "data": {
      "image/png": "[encoded data removed]",
      "text/plain": [
       "<Figure size 432x288 with 1 Axes>"
      ]
     },
     "metadata": {
      "needs_background": "light"
     },
     "output_type": "display_data"
    }
   ],
   "source": [
    "# EDA\n",
    "# Plot the distribution of the target variable\n",
    "sns.countplot(x='label', data=news_df)\n",
    "plt.title('Distribution of News Labels')\n",
    "plt.show()"
   ]
  },
  {
   "cell_type": "code",
   "execution_count": 25,
   "id": "5d93126d",
   "metadata": {},
   "outputs": [
    {
     "data": {
      "image/png": "[encoded data removed]",
      "text/plain": [
       "<Figure size 1080x360 with 1 Axes>"
      ]
     },
     "metadata": {
      "needs_background": "light"
     },
     "output_type": "display_data"
    }
   ],
   "source": [
    "# Plot the distribution of news lengths\n",
    "news_df['length'] = news_df['content'].apply(lambda x: len(x.split()))\n",
    "fig, ax = plt.subplots(figsize=(15, 5))\n",
    "sns.histplot(x='length', data=news_df)\n",
    "plt.title('Distribution of News Lengths')\n",
    "plt.xlabel('Length')\n",
    "plt.xlim(0, 1000)\n",
    "plt.show()"
   ]
  },
  {
   "cell_type": "code",
   "execution_count": 26,
   "id": "a2ddfdfd",
   "metadata": {},
   "outputs": [
    {
     "data": {
      "text/html": [
       "<div>\n",
       "<style scoped>\n",
       "    .dataframe tbody tr th:only-of-type {\n",
       "        vertical-align: middle;\n",
       "    }\n",
       "\n",
       "    .dataframe tbody tr th {\n",
       "        vertical-align: top;\n",
       "    }\n",
       "\n",
       "    .dataframe thead th {\n",
       "        text-align: right;\n",
       "    }\n",
       "</style>\n",
       "<table border=\"1\" class=\"dataframe\">\n",
       "  <thead>\n",
       "    <tr style=\"text-align: right;\">\n",
       "      <th></th>\n",
       "      <th>Unnamed: 0</th>\n",
       "      <th>title</th>\n",
       "      <th>text</th>\n",
       "      <th>label</th>\n",
       "      <th>content</th>\n",
       "      <th>length</th>\n",
       "    </tr>\n",
       "  </thead>\n",
       "  <tbody>\n",
       "    <tr>\n",
       "      <th>0</th>\n",
       "      <td>12931</td>\n",
       "      <td>WATCH: PRESIDENT TRUMP Hilariously Exposes Hyp...</td>\n",
       "      <td>Before Trump, Democrats and their allies in th...</td>\n",
       "      <td>1</td>\n",
       "      <td>watch president trump hilariously expose hypoc...</td>\n",
       "      <td>130</td>\n",
       "    </tr>\n",
       "    <tr>\n",
       "      <th>1</th>\n",
       "      <td>47258</td>\n",
       "      <td>U.S. and India Mark a New Moment in Relations ...</td>\n",
       "      <td>WASHINGTON  —   Prime Minister Narendra Modi o...</td>\n",
       "      <td>0</td>\n",
       "      <td>u india mark new moment relation narendra modi...</td>\n",
       "      <td>679</td>\n",
       "    </tr>\n",
       "    <tr>\n",
       "      <th>2</th>\n",
       "      <td>42362</td>\n",
       "      <td>The Firefighter’s Prophecy: Is Trump God’s Man?</td>\n",
       "      <td>The Firefighter’s Prophecy: Is Trump God’s Man...</td>\n",
       "      <td>1</td>\n",
       "      <td>firefighter prophecy trump god man firefighter...</td>\n",
       "      <td>111</td>\n",
       "    </tr>\n",
       "    <tr>\n",
       "      <th>3</th>\n",
       "      <td>30314</td>\n",
       "      <td>Suspect in 4 gruesome D.C. killings might not ...</td>\n",
       "      <td>Authorities said in court papers Friday that t...</td>\n",
       "      <td>0</td>\n",
       "      <td>suspect 4 gruesome dc killing might acted alon...</td>\n",
       "      <td>786</td>\n",
       "    </tr>\n",
       "    <tr>\n",
       "      <th>4</th>\n",
       "      <td>48327</td>\n",
       "      <td>Republican Trump releases healthcare proposals</td>\n",
       "      <td>WASHINGTON (Reuters) - U.S. Republican preside...</td>\n",
       "      <td>0</td>\n",
       "      <td>republican trump release healthcare proposal w...</td>\n",
       "      <td>259</td>\n",
       "    </tr>\n",
       "    <tr>\n",
       "      <th>...</th>\n",
       "      <td>...</td>\n",
       "      <td>...</td>\n",
       "      <td>...</td>\n",
       "      <td>...</td>\n",
       "      <td>...</td>\n",
       "      <td>...</td>\n",
       "    </tr>\n",
       "    <tr>\n",
       "      <th>63116</th>\n",
       "      <td>71052</td>\n",
       "      <td>House Financial Services chairman sees Dodd-Fr...</td>\n",
       "      <td>WASHINGTON (Reuters) - Reform of Wall Street r...</td>\n",
       "      <td>0</td>\n",
       "      <td>house financial service chairman see doddfrank...</td>\n",
       "      <td>60</td>\n",
       "    </tr>\n",
       "    <tr>\n",
       "      <th>63117</th>\n",
       "      <td>60555</td>\n",
       "      <td>Obama Delivers Private Letter to Trump as Clin...</td>\n",
       "      <td>In anticipation of the inauguration of   Donal...</td>\n",
       "      <td>0</td>\n",
       "      <td>obama delivers private letter trump clinton bu...</td>\n",
       "      <td>184</td>\n",
       "    </tr>\n",
       "    <tr>\n",
       "      <th>63118</th>\n",
       "      <td>29364</td>\n",
       "      <td>“Weinergate”</td>\n",
       "      <td>https://www.lewrockwell.com/lrc-blog/weinergat...</td>\n",
       "      <td>1</td>\n",
       "      <td>weinergate name given latest clinton crime fam...</td>\n",
       "      <td>17</td>\n",
       "    </tr>\n",
       "    <tr>\n",
       "      <th>63119</th>\n",
       "      <td>25622</td>\n",
       "      <td>Flagged Two Times in 2014, Ahmad Rahami Passed...</td>\n",
       "      <td>When Ahmad Khan Rahami returned in March 2014 ...</td>\n",
       "      <td>0</td>\n",
       "      <td>flagged two time 2014 ahmad rahami passed scru...</td>\n",
       "      <td>904</td>\n",
       "    </tr>\n",
       "    <tr>\n",
       "      <th>63120</th>\n",
       "      <td>44653</td>\n",
       "      <td>‘Is America Now a Banana Republic’</td>\n",
       "      <td>Zero Hedge October 28, 2016 \\nMoments ago, Rus...</td>\n",
       "      <td>1</td>\n",
       "      <td>america banana republic zero hedge october 28 ...</td>\n",
       "      <td>676</td>\n",
       "    </tr>\n",
       "  </tbody>\n",
       "</table>\n",
       "<p>63121 rows × 6 columns</p>\n",
       "</div>"
      ],
      "text/plain": [
       "       Unnamed: 0                                              title  \\\n",
       "0           12931  WATCH: PRESIDENT TRUMP Hilariously Exposes Hyp...   \n",
       "1           47258  U.S. and India Mark a New Moment in Relations ...   \n",
       "2           42362    The Firefighter’s Prophecy: Is Trump God’s Man?   \n",
       "3           30314  Suspect in 4 gruesome D.C. killings might not ...   \n",
       "4           48327     Republican Trump releases healthcare proposals   \n",
       "...           ...                                                ...   \n",
       "63116       71052  House Financial Services chairman sees Dodd-Fr...   \n",
       "63117       60555  Obama Delivers Private Letter to Trump as Clin...   \n",
       "63118       29364                                       “Weinergate”   \n",
       "63119       25622  Flagged Two Times in 2014, Ahmad Rahami Passed...   \n",
       "63120       44653                 ‘Is America Now a Banana Republic’   \n",
       "\n",
       "                                                    text  label  \\\n",
       "0      Before Trump, Democrats and their allies in th...      1   \n",
       "1      WASHINGTON  —   Prime Minister Narendra Modi o...      0   \n",
       "2      The Firefighter’s Prophecy: Is Trump God’s Man...      1   \n",
       "3      Authorities said in court papers Friday that t...      0   \n",
       "4      WASHINGTON (Reuters) - U.S. Republican preside...      0   \n",
       "...                                                  ...    ...   \n",
       "63116  WASHINGTON (Reuters) - Reform of Wall Street r...      0   \n",
       "63117  In anticipation of the inauguration of   Donal...      0   \n",
       "63118  https://www.lewrockwell.com/lrc-blog/weinergat...      1   \n",
       "63119  When Ahmad Khan Rahami returned in March 2014 ...      0   \n",
       "63120  Zero Hedge October 28, 2016 \\nMoments ago, Rus...      1   \n",
       "\n",
       "                                                 content  length  \n",
       "0      watch president trump hilariously expose hypoc...     130  \n",
       "1      u india mark new moment relation narendra modi...     679  \n",
       "2      firefighter prophecy trump god man firefighter...     111  \n",
       "3      suspect 4 gruesome dc killing might acted alon...     786  \n",
       "4      republican trump release healthcare proposal w...     259  \n",
       "...                                                  ...     ...  \n",
       "63116  house financial service chairman see doddfrank...      60  \n",
       "63117  obama delivers private letter trump clinton bu...     184  \n",
       "63118  weinergate name given latest clinton crime fam...      17  \n",
       "63119  flagged two time 2014 ahmad rahami passed scru...     904  \n",
       "63120  america banana republic zero hedge october 28 ...     676  \n",
       "\n",
       "[63121 rows x 6 columns]"
      ]
     },
     "execution_count": 26,
     "metadata": {},
     "output_type": "execute_result"
    }
   ],
   "source": [
    "news_df"
   ]
  },
  {
   "cell_type": "code",
   "execution_count": 27,
   "id": "3717efa3",
   "metadata": {},
   "outputs": [
    {
     "data": {
      "image/png": "[encoded data removed]",
      "text/plain": [
       "<Figure size 432x288 with 1 Axes>"
      ]
     },
     "metadata": {
      "needs_background": "light"
     },
     "output_type": "display_data"
    }
   ],
   "source": [
    "# Plot the word frequency distribution\n",
    "word_freq = pd.Series(' '.join(news_df['content']).split()).value_counts()[:10]\n",
    "sns.barplot(x=word_freq.index, y=word_freq.values)\n",
    "plt.title('Top 10 Most Frequent Words in News')\n",
    "plt.xlabel('Words')\n",
    "plt.ylabel('Frequency')\n",
    "plt.show()"
   ]
  },
  {
   "cell_type": "code",
   "execution_count": null,
   "id": "a01cf0bd",
   "metadata": {},
   "outputs": [],
   "source": []
  },
  {
   "cell_type": "markdown",
   "id": "660bfb4e",
   "metadata": {},
   "source": [
    "# Separating the data & label"
   ]
  },
  {
   "cell_type": "code",
   "execution_count": 24,
   "id": "83edf7a2",
   "metadata": {},
   "outputs": [],
   "source": [
    "# extracting all independant variables except last column i.e. label\n",
    "X = news_df['content']\n",
    "# extracting all dependant variables last column i.e. label\n",
    "y = news_df['label']"
   ]
  },
  {
   "cell_type": "code",
   "execution_count": 25,
   "id": "875e0622",
   "metadata": {},
   "outputs": [
    {
     "name": "stdout",
     "output_type": "stream",
     "text": [
      "0        south korea resume building two new nuclear re...\n",
      "1        netanyahu signal israel act free hand syria je...\n",
      "2        china xi fete trump first day beijing trip bei...\n",
      "3        sometimes road diet change fun sometimes road ...\n",
      "4        trump taiwan china controversy explained new y...\n",
      "                               ...                        \n",
      "63116    today history harry truman defies state depart...\n",
      "63117    mired third marco rubio prepares long drawnout...\n",
      "63118    north korea say trump begged war asia trip seo...\n",
      "63119    showgirl pastrami candor gloria steinem new yo...\n",
      "63120    wow john kerry said prof inability secretary s...\n",
      "Name: content, Length: 63121, dtype: object\n"
     ]
    }
   ],
   "source": [
    "print(X)"
   ]
  },
  {
   "cell_type": "markdown",
   "id": "66fbd91b",
   "metadata": {},
   "source": [
    "# converting the textual data to numerical data"
   ]
  },
  {
   "cell_type": "code",
   "execution_count": 26,
   "id": "084877fa",
   "metadata": {},
   "outputs": [],
   "source": [
    "vector = TfidfVectorizer()\n",
    "vector.fit(X)\n",
    "X = vector.transform(X)"
   ]
  },
  {
   "cell_type": "code",
   "execution_count": 27,
   "id": "92b89e3c",
   "metadata": {},
   "outputs": [],
   "source": [
    "import pickle\n",
    "\n",
    "\n",
    "with open('vectorizer.pkl', 'wb') as file:\n",
    "    pickle.dump(vector, file)"
   ]
  },
  {
   "cell_type": "code",
   "execution_count": 28,
   "id": "352c0fbb",
   "metadata": {},
   "outputs": [
    {
     "name": "stdout",
     "output_type": "stream",
     "text": [
      "  (0, 332852)\t0.022777471399245325\n",
      "  (0, 332546)\t0.04614497634442354\n",
      "  (0, 330695)\t0.04679710940515998\n",
      "  (0, 327376)\t0.020580567551133133\n",
      "  (0, 318031)\t0.04297267280449776\n",
      "  (0, 317964)\t0.05151916038842964\n",
      "  (0, 316953)\t0.052154119983467216\n",
      "  (0, 315420)\t0.10384027448741785\n",
      "  (0, 312529)\t0.07573482056601863\n",
      "  (0, 310931)\t0.025799808198584396\n",
      "  (0, 307085)\t0.03302441643877439\n",
      "  (0, 306502)\t0.06339218162305932\n",
      "  (0, 306488)\t0.035302269269743135\n",
      "  (0, 306320)\t0.057277647962299415\n",
      "  (0, 305409)\t0.019279621142305355\n",
      "  (0, 303257)\t0.04531952499547599\n",
      "  (0, 301907)\t0.03420086017361354\n",
      "  (0, 293605)\t0.04588223362240313\n",
      "  (0, 293463)\t0.0433009889179034\n",
      "  (0, 287672)\t0.04068189252743016\n",
      "  (0, 287117)\t0.02378712133613687\n",
      "  (0, 283750)\t0.12538380307167188\n",
      "  (0, 283641)\t0.029033509075993082\n",
      "  (0, 282315)\t0.05612032964739608\n",
      "  (0, 279434)\t0.09696447234527267\n",
      "  :\t:\n",
      "  (63119, 16244)\t0.023747829437868115\n",
      "  (63119, 15121)\t0.010783853945714253\n",
      "  (63119, 12232)\t0.013710543991580428\n",
      "  (63119, 9906)\t0.01533116427667162\n",
      "  (63119, 5100)\t0.0193580711698684\n",
      "  (63119, 5089)\t0.015602510564478393\n",
      "  (63119, 5072)\t0.058616067602964346\n",
      "  (63119, 5068)\t0.017977925049095247\n",
      "  (63119, 5061)\t0.017613009247463063\n",
      "  (63119, 5027)\t0.01991943388969642\n",
      "  (63119, 5012)\t0.016130872955891818\n",
      "  (63119, 5000)\t0.01856018991111567\n",
      "  (63119, 4991)\t0.02074874987949163\n",
      "  (63119, 772)\t0.026958312609295907\n",
      "  (63120, 333416)\t0.3717138727185159\n",
      "  (63120, 333337)\t0.10937557500874823\n",
      "  (63120, 316382)\t0.4826644619088475\n",
      "  (63120, 286881)\t0.11583335334415244\n",
      "  (63120, 271213)\t0.20048950273751753\n",
      "  (63120, 265222)\t0.09034797554436895\n",
      "  (63120, 242729)\t0.366994171862776\n",
      "  (63120, 166312)\t0.37104624896829147\n",
      "  (63120, 161878)\t0.2102597809689363\n",
      "  (63120, 150693)\t0.4037099909192473\n",
      "  (63120, 34901)\t0.2749066408341009\n"
     ]
    }
   ],
   "source": [
    "print(X)"
   ]
  },
  {
   "cell_type": "markdown",
   "id": "1e7a301d",
   "metadata": {},
   "source": [
    "# Splitting the dataset to training & test data"
   ]
  },
  {
   "cell_type": "code",
   "execution_count": 29,
   "id": "3b83c511",
   "metadata": {},
   "outputs": [],
   "source": [
    "X_train, X_test, Y_train, Y_test = train_test_split(X, y, test_size = 0.2,  random_state=42)"
   ]
  },
  {
   "cell_type": "code",
   "execution_count": 30,
   "id": "170370c8",
   "metadata": {},
   "outputs": [
    {
     "data": {
      "text/plain": [
       "(50496, 365039)"
      ]
     },
     "execution_count": 30,
     "metadata": {},
     "output_type": "execute_result"
    }
   ],
   "source": [
    "X_train.shape"
   ]
  },
  {
   "cell_type": "code",
   "execution_count": 31,
   "id": "da5a6e4d",
   "metadata": {},
   "outputs": [
    {
     "data": {
      "text/plain": [
       "(12625, 365039)"
      ]
     },
     "execution_count": 31,
     "metadata": {},
     "output_type": "execute_result"
    }
   ],
   "source": [
    "X_test.shape"
   ]
  },
  {
   "cell_type": "markdown",
   "id": "316b0b4b",
   "metadata": {},
   "source": [
    "# Training the Model: Decision Tree"
   ]
  },
  {
   "cell_type": "code",
   "execution_count": 32,
   "id": "c17a500f",
   "metadata": {},
   "outputs": [],
   "source": [
    "dt_model = DecisionTreeClassifier(criterion = 'entropy' )"
   ]
  },
  {
   "cell_type": "code",
   "execution_count": 33,
   "id": "6116ad16",
   "metadata": {},
   "outputs": [
    {
     "data": {
      "text/plain": [
       "DecisionTreeClassifier(criterion='entropy')"
      ]
     },
     "execution_count": 33,
     "metadata": {},
     "output_type": "execute_result"
    }
   ],
   "source": [
    "dt_model.fit(X_train,Y_train)"
   ]
  },
  {
   "cell_type": "code",
   "execution_count": 34,
   "id": "840fb97c",
   "metadata": {},
   "outputs": [],
   "source": [
    "import pickle\n",
    "\n",
    "# Assuming you have trained your model and stored it in the 'dt_model' variable\n",
    "\n",
    "# Save the model to a file\n",
    "with open('model.pkl', 'wb') as file:\n",
    "    pickle.dump(dt_model, file)\n"
   ]
  },
  {
   "cell_type": "code",
   "execution_count": 36,
   "id": "6ca9688f",
   "metadata": {},
   "outputs": [
    {
     "name": "stdout",
     "output_type": "stream",
     "text": [
      "1.0\n"
     ]
    }
   ],
   "source": [
    "# on training set\n",
    "Y_train_pred = dt_model.predict(X_train)\n",
    "print(accuracy_score(Y_train_pred,Y_train))"
   ]
  },
  {
   "cell_type": "code",
   "execution_count": 37,
   "id": "a85fc17e",
   "metadata": {},
   "outputs": [
    {
     "name": "stdout",
     "output_type": "stream",
     "text": [
      "0.9240396039603961\n"
     ]
    }
   ],
   "source": [
    "# on testing set\n",
    "Y_test_pred = dt_model.predict(X_test)\n",
    "print(accuracy_score(Y_test_pred,Y_test))"
   ]
  },
  {
   "cell_type": "code",
   "execution_count": 38,
   "id": "9320b77e",
   "metadata": {},
   "outputs": [
    {
     "name": "stdout",
     "output_type": "stream",
     "text": [
      "              precision    recall  f1-score   support\n",
      "\n",
      "           0       0.93      0.93      0.93      6879\n",
      "           1       0.92      0.91      0.92      5746\n",
      "\n",
      "    accuracy                           0.92     12625\n",
      "   macro avg       0.92      0.92      0.92     12625\n",
      "weighted avg       0.92      0.92      0.92     12625\n",
      "\n",
      "[[6421  458]\n",
      " [ 501 5245]]\n"
     ]
    }
   ],
   "source": [
    "print(metrics.classification_report(Y_test_pred,Y_test))\n",
    "print(metrics.confusion_matrix(Y_test_pred,Y_test))"
   ]
  },
  {
   "cell_type": "code",
   "execution_count": null,
   "id": "2892cad2",
   "metadata": {},
   "outputs": [],
   "source": []
  },
  {
   "cell_type": "markdown",
   "id": "d8177505",
   "metadata": {},
   "source": [
    "# Regularization "
   ]
  },
  {
   "cell_type": "code",
   "execution_count": 58,
   "id": "2ff6190a",
   "metadata": {},
   "outputs": [
    {
     "data": {
      "text/plain": [
       "DecisionTreeClassifier(criterion='entropy', max_depth=22, min_samples_split=400)"
      ]
     },
     "execution_count": 58,
     "metadata": {},
     "output_type": "execute_result"
    }
   ],
   "source": [
    "dt_model = DecisionTreeClassifier(criterion = 'entropy',max_depth=22, min_samples_split=400 )\n",
    "dt_model.fit(X_train,Y_train)\n"
   ]
  },
  {
   "cell_type": "code",
   "execution_count": 59,
   "id": "63d2ae77",
   "metadata": {},
   "outputs": [
    {
     "name": "stdout",
     "output_type": "stream",
     "text": [
      "0.9270495049504951\n",
      "Mean Squared Error:  0.07295049504950495\n"
     ]
    }
   ],
   "source": [
    "# on testing set\n",
    "Y_test_pred = dt_model.predict(X_test)\n",
    "print(accuracy_score(Y_test_pred,Y_test))\n",
    "\n",
    "from sklearn.metrics import mean_squared_error\n",
    "\n",
    "mse = mean_squared_error(Y_test, Y_test_pred)\n",
    "print(\"Mean Squared Error: \", mse)"
   ]
  },
  {
   "cell_type": "code",
   "execution_count": 60,
   "id": "6a753625",
   "metadata": {},
   "outputs": [
    {
     "name": "stdout",
     "output_type": "stream",
     "text": [
      "              precision    recall  f1-score   support\n",
      "\n",
      "           0       0.92      0.94      0.93      6743\n",
      "           1       0.93      0.91      0.92      5882\n",
      "\n",
      "    accuracy                           0.93     12625\n",
      "   macro avg       0.93      0.93      0.93     12625\n",
      "weighted avg       0.93      0.93      0.93     12625\n",
      "\n",
      "[[6372  371]\n",
      " [ 550 5332]]\n"
     ]
    }
   ],
   "source": [
    "print(metrics.classification_report(Y_test_pred,Y_test))\n",
    "print(metrics.confusion_matrix(Y_test_pred,Y_test))"
   ]
  },
  {
   "cell_type": "code",
   "execution_count": null,
   "id": "8d1aa132",
   "metadata": {},
   "outputs": [],
   "source": []
  },
  {
   "cell_type": "code",
   "execution_count": 61,
   "id": "7ba86446",
   "metadata": {},
   "outputs": [],
   "source": [
    "input_data = X_test[0]\n",
    "prediction = dt_model.predict(input_data)"
   ]
  },
  {
   "cell_type": "code",
   "execution_count": 62,
   "id": "23688fa9",
   "metadata": {},
   "outputs": [
    {
     "name": "stdout",
     "output_type": "stream",
     "text": [
      "The News Is Real\n"
     ]
    }
   ],
   "source": [
    "if prediction[0] == 1:\n",
    "    print('The News Is Real')\n",
    "else:\n",
    "    print('The News is Fake')"
   ]
  },
  {
   "cell_type": "code",
   "execution_count": 63,
   "id": "49bca0ba",
   "metadata": {},
   "outputs": [
    {
     "data": {
      "text/plain": [
       "'BERLIN (Reuters) - German drag queens are using satire to spoof a hard-right party s anti-Islam election campaign, and German voters are loving it. They have formed Transvestites for Germany, or TfD, a name that bears an uncanny resemblance to Alternative for Germany (AfD), the name of Germany s leading right-wing party, and launched a Facebook campaign that has almost 7,000 followers. The AfD s election campaign focuses on messages that Islamic customs don t belong in Germany. That has left a bad taste with many Germans, and TfD saw an opportunity to use drag fashion and wit to mock the AfD s own election placards. The AfD posters feature white German women in bikinis or raising wine glasses, with captions like  Burka? I m into bikinis  and  Burka? I m into Burgundy . The posters are emblazoned with the party s election motto:  I dare you, Germany!  The TfD version of the posters uses the AfD s light blue party color but replaces the anti-immigrant party s red arrow with red stiletto shoes.  Guzzle your crap Burgundy alone! I prefer prosecco,  reads one poster with a picture of Gisela Sommer, one of several bearded men dressed like women and raising a middle finger on TfD placards, which include the hashtags #NoAfD and #NoNaziPack. JACKY-OH WEINHAUS The TfD campaign has drawn the attention of several German newspapers and has brought some flare to an otherwise largely dull election. Chancellor Angela Merkel is expected to win and secure a fourth term in office without much trouble.  I don t think that all AfD members are Nazis, but there is an appalling racial tone in this party which is for sure shared by many of its members,  said TfD leader Jacky-Oh Weinhaus.  Buffalo Meus, the media manager of the fictional party, said he gets about 50 Facebook messages a day from people asking how they can become TfD members.  We just wanted an art project,  Meus said.  But some people have taken us for a real party. They ask us,  how can I register?  How can I vote for you?    Not all the messages are pleasant. Other readers have wished the group members death by stoning or by hanging. The group s main goal is get the 17 million Germans who stayed home in the 2013 election to the polls. They hope their votes will cut into support for the AfD, which is forecast to enter parliament for the first time with 8 to 10 percent of the vote.  Instead of supporting the AfD, the only party that criticizes Islam, you go against it,  an angry Facebook user called Hans Horn wrote to TfD this week.  If Islamisation continues and Muslim invaders from Africa continue to flood in you will be the first to be thrown from high roofs.  The TfD responded two days later:  We love you and wish you a sunny Wednesday!  '"
      ]
     },
     "execution_count": 63,
     "metadata": {},
     "output_type": "execute_result"
    }
   ],
   "source": [
    "news_df['text'][2]"
   ]
  },
  {
   "cell_type": "code",
   "execution_count": null,
   "id": "25394cda",
   "metadata": {},
   "outputs": [],
   "source": []
  },
  {
   "cell_type": "code",
   "execution_count": null,
   "id": "842823f3",
   "metadata": {},
   "outputs": [],
   "source": [
    "import streamlit as st"
   ]
  },
  {
   "cell_type": "code",
   "execution_count": null,
   "id": "0dcf76d8",
   "metadata": {},
   "outputs": [],
   "source": [
    "# website\n",
    "st.title('Fake News Detector')\n",
    "input_text = st.text_input('Enter news Article')"
   ]
  }
 ],
 "metadata": {
  "kernelspec": {
   "display_name": "Python 3",
   "language": "python",
   "name": "python3"
  },
  "language_info": {
   "codemirror_mode": {
    "name": "ipython",
    "version": 3
   },
   "file_extension": ".py",
   "mimetype": "text/x-python",
   "name": "python",
   "nbconvert_exporter": "python",
   "pygments_lexer": "ipython3",
   "version": "3.8.8"
  }
 },
 "nbformat": 4,
 "nbformat_minor": 5
}
